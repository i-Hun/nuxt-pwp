{
 "cells": [
  {
   "cell_type": "markdown",
   "metadata": {
    "slideshow": {
     "slide_type": "slide"
    }
   },
   "source": [
    "## Устройство веба\n",
    "\n",
    "### Клиент-серверная архитектура\n",
    "\n",
    "Компьютеры, подключенные к сети называются клиентами и серверами. Схема обмена информацией выглядит приблизительно так:\n",
    "![image.png](https://mdn.mozillademos.org/files/8973/Client-server.jpg)\n",
    "\n",
    "Клиенты являются обычными пользователями, подключенными к Интернету посредством устройств и программного обеспечения, доступного на этих устройствах (как правило, браузер, например, Firefox или Chrome).\n",
    "\n",
    "Серверы - компьютеры, которые хранят веб-страницы, сайты или приложения. Когда клиентское устройство пытается получить доступ к веб-странице, копия страницы загружается с сервера на клиентский компьютер для отображения в браузере пользователя.\n",
    "\n",
    "\n",
    "### HTTP как основной протокол передачи данных\n",
    "\n",
    "Связь между клиентом и сервером осуществляется по определённому протоколу, обычно это HTTP (HyperText Transfer Protocol). Каждое HTTP-сообщение состоит из трёх частей, которые передаются в указанном порядке:\n",
    "\n",
    "* Стартовая строка (Starting line) — определяет тип сообщения;\n",
    "* Заголовки (Headers) — характеризуют тело сообщения, параметры передачи и прочие сведения;\n",
    "* Тело сообщения (Message Body) — непосредственно данные сообщения. Обязательно должно отделяться от заголовков пустой строкой.\n",
    "\n",
    "Тело сообщения может отсутствовать, но стартовая строка и заголовок являются обязательными элементами.\n",
    "#### Стартовая строка\n",
    "\n",
    "Стартовые строки различаются для запроса и ответа. \n",
    "\n",
    "**Строка запроса** выглядит так: **`Метод URI HTTP/Версия`**. \n",
    "\n",
    "Самые часто используемые методы это `GET` и `POST` (ещё существую `DELETE`, `PUT`, `HEAD` и другие).\n",
    "\n",
    "`GET` используется для запроса содержимого указанного ресурса, `POST` применяется для передачи пользовательских данных заданному ресурсу. \n",
    "\n",
    "Структура URI: `<схема>:[//[<логин>:<пароль>@]<хост>[:<порт>]][/<URL‐путь>][?<параметры>][#<якорь>]`.\n",
    "![](https://habrastorage.org/files/373/2b3/3fd/3732b33fd43043049c18e3c108bc9d1a.jpg)\n",
    "\n",
    "**Cтрока ответа** сервера имеет следующий формат: **`HTTP/Версия КодСостояния Пояснение`**.\n",
    "\n",
    "Код состояния является частью первой строки ответа сервера. Он представляет собой целое число из трёх цифр. Первая цифра указывает на класс состояния. За кодом ответа обычно следует отделённая пробелом поясняющая фраза на английском языке, которая разъясняет человеку причину именно такого ответа. [Список кодов состояния на wiki](https://ru.wikipedia.org/wiki/%D0%A1%D0%BF%D0%B8%D1%81%D0%BE%D0%BA_%D0%BA%D0%BE%D0%B4%D0%BE%D0%B2_%D1%81%D0%BE%D1%81%D1%82%D0%BE%D1%8F%D0%BD%D0%B8%D1%8F_HTTP).\n",
    "\n",
    "#### [Заголовки](https://ru.wikipedia.org/wiki/%D0%97%D0%B0%D0%B3%D0%BE%D0%BB%D0%BE%D0%B2%D0%BA%D0%B8_HTTP)\n",
    "\n",
    "Заголовки HTTP (англ. HTTP Headers) — это строки в HTTP-сообщении, содержащие разделённую двоеточием пару имя-значение. \n",
    "\n",
    "#### Тело сообщение\n",
    "\n",
    "Непосредственно сообщение в формате HTML, JSON и др.\n"
   ]
  },
  {
   "cell_type": "markdown",
   "metadata": {
    "slideshow": {
     "slide_type": "slide"
    }
   },
   "source": [
    "## Загрузка данных при помощи модуля request\n",
    "\n",
    "Библиотека requests — это обёртка над другой, более низкоуровневой библиотекой urllib3, упрощающая доступ ко многим функциям.\n",
    "\n",
    "В requests имеется:\n",
    "\n",
    "* Множество методов http аутентификации\n",
    "* Сессии с куками\n",
    "* Полноценная поддержка SSL\n",
    "* Различные методы .json(), которые вернут данные в нужном формате\n",
    "* Проксирование\n",
    "* Грамотная и логичная работа с исключениями"
   ]
  },
  {
   "cell_type": "markdown",
   "metadata": {
    "slideshow": {
     "slide_type": "slide"
    }
   },
   "source": [
    "### Загрузка данных с обычной интернет-страницы\n",
    "\n",
    "Вот как выглядит HTTP-запрос методом `GET` с помощью requests:"
   ]
  },
  {
   "cell_type": "code",
   "execution_count": 2,
   "metadata": {
    "ExecuteTime": {
     "end_time": "2018-09-13T13:25:49.971417Z",
     "start_time": "2018-09-13T13:25:49.800294Z"
    },
    "slideshow": {
     "slide_type": "fragment"
    }
   },
   "outputs": [
    {
     "name": "stdout",
     "output_type": "stream",
     "text": [
      "Код состояния: 200.\n",
      "Заголовки: text/html; charset=utf-8.\n"
     ]
    }
   ],
   "source": [
    "import requests\n",
    "r = requests.get(\"https://www.hse.ru/\")\n",
    "print(f\"Код состояния: {r.status_code}.\")\n",
    "print(f\"Заголовки: {r.headers['content-type']}.\")"
   ]
  },
  {
   "cell_type": "markdown",
   "metadata": {
    "slideshow": {
     "slide_type": "slide"
    }
   },
   "source": [
    "Получить HTML можно с помощью свойства `text`:"
   ]
  },
  {
   "cell_type": "code",
   "execution_count": 4,
   "metadata": {
    "ExecuteTime": {
     "end_time": "2018-09-13T13:25:56.567867Z",
     "start_time": "2018-09-13T13:25:56.561990Z"
    },
    "slideshow": {
     "slide_type": "fragment"
    }
   },
   "outputs": [
    {
     "data": {
      "text/plain": [
       "'<!DOCTYPE html>\\n<html lang=\"ru\">\\n\\n\\n\\n\\n\\n\\n\\n\\n\\n\\n<head>\\n\\t<title>Национальный исследовательский университет Высшая школа экономики</title>\\n\\t<meta charset=\"utf-8\" />\\n\\t<meta name=\"viewport\" content=\"width=device-width, initial-scale=1\">\\n\\t<meta http-equiv=\"X-UA-Compatible\" content=\"IE=Edge\" />\\n\\t<meta name=\"yandex-verification\" content=\"25e3420f8bfc397e\" />\\n\\t<meta name=\"theme-color\" content=\"#1658DA\"/>\\n\\t<meta name=\"sputnik-verification\" content=\"SB2V6wrEtxYZNqgs\" />\\n\\t<link rel=\"manifest\" href=\"https://www.'"
      ]
     },
     "execution_count": 4,
     "metadata": {},
     "output_type": "execute_result"
    }
   ],
   "source": [
    "r.text[:500]"
   ]
  },
  {
   "cell_type": "markdown",
   "metadata": {
    "slideshow": {
     "slide_type": "slide"
    }
   },
   "source": [
    "### Загрузка динамически подгружаемого контента\n",
    "\n",
    "В качестве примера рассмотрим сайт meduza.io. Зайдите на него и посмотрите через Chrome DevTools, как в нём динамечески подгружается контент. Определим url, на который делаются запросы."
   ]
  },
  {
   "cell_type": "markdown",
   "metadata": {},
   "source": [
    "### Загрузка информации с защищённых сайтов"
   ]
  },
  {
   "cell_type": "markdown",
   "metadata": {},
   "source": [
    "Загрузим информацию с сайта мониторинга трудоустройства выпускников: http://vo.graduate.edu.ru/"
   ]
  },
  {
   "cell_type": "code",
   "execution_count": 11,
   "metadata": {
    "ExecuteTime": {
     "end_time": "2018-09-13T13:27:24.759011Z",
     "start_time": "2018-09-13T13:27:24.755742Z"
    }
   },
   "outputs": [],
   "source": [
    "par_dict = {\"id\":45,\"page\":1,\"params\":{}}"
   ]
  },
  {
   "cell_type": "code",
   "execution_count": 22,
   "metadata": {
    "ExecuteTime": {
     "end_time": "2018-05-12T02:14:57.800400Z",
     "start_time": "2018-05-12T02:14:57.792518Z"
    }
   },
   "outputs": [],
   "source": [
    "headers = {\n",
    "     \"Accept\": \"application/json, text/javascript, */*; q=0.01\",\n",
    "     \"Accept-Encoding\": \"gzip, deflate\",\n",
    "     \"Accept-Language\": \"en-US,en;q=0.9,ru-RU;q=0.8,ru;q=0.7,la;q=0.6\",\n",
    "     \"Connection\": \"keep-alive\",\n",
    "     \"Content-Length\": \"100\",\n",
    "     \"Content-Type\": \"application/json; charset=UTF-8\",\n",
    "     \"Cookie\": \"_ym_uid=15260890961045257376; _ym_isad=1; _ym_visorc_31062401=w; _vagrant_session=V2Qwb3V0aWc4K3NDVW1KVkdxQ0xzZjEyL3JIM2JuSlBGeFJyTEJhUHVXZkZEWnArdUJ6eEVXRFJBcmhrQVh0dWtpVG9iQ0g0UDJXNmtIR0lYUkhJaDhEMkVscUdvSzZhOUFJSlVDSUlqTTlzdXJEY0dpY1Jsa1Q5SzRSb01VdDRDWGVuaGtzSStaazYyYmdnOWFxcWRvSkJ2RFhxM0hadHdyT3hUNEgrY0hFPS0tUTNrUmY2eUx0bXVQdDlYbTkxZzFhQT09--346f51dc5bbd378a982946b4dc5b95d5b5e3038a\",\n",
    "     \"Host\": \"vo.graduate.edu.ru\",\n",
    "     \"Origin\": \"http://vo.graduate.edu.ru\",\n",
    "     \"Referer\": \"http://vo.graduate.edu.ru/registry\",\n",
    "     \"Save-Data\": \"on\",\n",
    "     \"User-Agent\": \"Mozilla/5.0 (Macintosh; Intel Mac OS X 10_13_4) AppleWebKit/537.36 (KHTML, like Gecko) Chrome/66.0.3359.139 Safari/537.36\",\n",
    "     \"X-CSRF-Token\": \"ZxpQgT3/JsEF/evo5FFLH2niFgeDSrdl8BLQ798xzHiG3umyqLy/Yt61aMwx9jd92/2hitrsaSGN5siwVLrGRQ==\",\n",
    "     \"X-Requested-With\": \"XMLHttpRequest\"\n",
    "}"
   ]
  },
  {
   "cell_type": "code",
   "execution_count": 18,
   "metadata": {
    "ExecuteTime": {
     "end_time": "2018-05-12T02:13:32.347585Z",
     "start_time": "2018-05-12T02:13:32.344596Z"
    }
   },
   "outputs": [],
   "source": [
    "par_json = json.dumps(par_dict)"
   ]
  },
  {
   "cell_type": "code",
   "execution_count": 19,
   "metadata": {
    "ExecuteTime": {
     "end_time": "2018-05-12T02:13:44.019973Z",
     "start_time": "2018-05-12T02:13:43.950639Z"
    }
   },
   "outputs": [],
   "source": [
    "r = requests.post(\"http://vo.graduate.edu.ru/graphs/getGraph\", data=par_json)"
   ]
  },
  {
   "cell_type": "code",
   "execution_count": 20,
   "metadata": {
    "ExecuteTime": {
     "end_time": "2018-05-12T02:13:47.277604Z",
     "start_time": "2018-05-12T02:13:47.270960Z"
    }
   },
   "outputs": [
    {
     "data": {
      "text/plain": [
       "<Response [422]>"
      ]
     },
     "execution_count": 20,
     "metadata": {},
     "output_type": "execute_result"
    }
   ],
   "source": [
    "r"
   ]
  },
  {
   "cell_type": "code",
   "execution_count": 23,
   "metadata": {
    "ExecuteTime": {
     "end_time": "2018-05-12T02:15:00.785957Z",
     "start_time": "2018-05-12T02:15:00.602949Z"
    }
   },
   "outputs": [
    {
     "data": {
      "text/plain": [
       "<Response [200]>"
      ]
     },
     "execution_count": 23,
     "metadata": {},
     "output_type": "execute_result"
    }
   ],
   "source": [
    "r = requests.post(\"http://vo.graduate.edu.ru/graphs/getGraph\", data=par_json, headers=headers)\n",
    "r"
   ]
  },
  {
   "cell_type": "markdown",
   "metadata": {},
   "source": [
    "## HTML и его парсинг с помощью BeautifulSoup"
   ]
  },
  {
   "cell_type": "markdown",
   "metadata": {},
   "source": [
    "HTML — теговый язык разметки документов. Любой документ на языке HTML представляет собой набор элементов, причём начало и конец каждого элемента обозначается специальными пометками — тегами. Элементы могут быть пустыми, то есть не содержащими никакого текста и других данных (например, тег перевода строки `<br>`). В этом случае обычно не указывается закрывающий тег. Кроме того, элементы могут иметь атрибуты, определяющие какие-либо их свойства (например, размер шрифта для тега `<font>`). Атрибуты указываются в открывающем теге. Вот примеры фрагментов HTML-документа:\n"
   ]
  },
  {
   "cell_type": "markdown",
   "metadata": {},
   "source": [
    "```<strong>Текст между двумя тегами — открывающим и закрывающим.</strong>\n",
    "<a href=\"http://www.example.com\">Здесь элемент содержит атрибут href, то есть гиперссылку.</a>\n",
    "А вот пример пустого элемента: <br> и какой-то текст\n",
    "```"
   ]
  },
  {
   "cell_type": "markdown",
   "metadata": {},
   "source": [
    "даст следующее:\n",
    "\n",
    "> <strong>Текст между двумя тегами — открывающим и закрывающим.</strong> <a href=\"http://www.example.com\">Здесь элемент содержит атрибут href, то есть гиперссылку.</a> А вот пример пустого элемента: <br> и какой-то текст"
   ]
  },
  {
   "cell_type": "markdown",
   "metadata": {},
   "source": [
    "Регистр, в котором набрано имя элемента и имена атрибутов, в HTML значения не имеет (в отличие от XHTML). Элементы могут быть вложенными. "
   ]
  },
  {
   "cell_type": "markdown",
   "metadata": {},
   "source": [
    "Для парсинга HTML существуют разные библиотеки, но чаще всего используется [BeautifulSoup](https://www.crummy.com/software/BeautifulSoup/bs4/doc/). Для тех, кто занком с jQuery более удобным вариантом может быть библиотека [pyquery](https://pythonhosted.org/pyquery/)."
   ]
  },
  {
   "cell_type": "code",
   "execution_count": 2,
   "metadata": {
    "ExecuteTime": {
     "end_time": "2017-10-13T11:25:51.201014Z",
     "start_time": "2017-10-13T11:25:51.068820Z"
    },
    "collapsed": true
   },
   "outputs": [],
   "source": [
    "from bs4 import BeautifulSoup"
   ]
  },
  {
   "cell_type": "markdown",
   "metadata": {},
   "source": [
    "BS поддерживает разные парсеры html: https://www.crummy.com/software/BeautifulSoup/bs4/doc/#installing-a-parser"
   ]
  },
  {
   "cell_type": "code",
   "execution_count": 32,
   "metadata": {
    "ExecuteTime": {
     "end_time": "2017-10-13T11:12:32.107827Z",
     "start_time": "2017-10-13T11:12:32.100041Z"
    }
   },
   "outputs": [
    {
     "data": {
      "text/plain": [
       "<html><body><p>какой-то текст <b class=\"class_name\" id=\"id_attr\">Полужирный текст</b> <i>И ещё немножко</i></p></body></html>"
      ]
     },
     "execution_count": 32,
     "metadata": {},
     "output_type": "execute_result"
    }
   ],
   "source": [
    "soup = BeautifulSoup(\"какой-то текст <b class='class_name', id='id_attr'>Полужирный текст</b> <i>И ещё немножко</i>\", \"lxml\")\n",
    "soup"
   ]
  },
  {
   "cell_type": "code",
   "execution_count": 33,
   "metadata": {
    "ExecuteTime": {
     "end_time": "2017-10-13T11:12:35.574691Z",
     "start_time": "2017-10-13T11:12:35.568494Z"
    }
   },
   "outputs": [
    {
     "data": {
      "text/plain": [
       "<b class=\"class_name\" id=\"id_attr\">Полужирный текст</b>"
      ]
     },
     "execution_count": 33,
     "metadata": {},
     "output_type": "execute_result"
    }
   ],
   "source": [
    "btag = soup.b\n",
    "btag"
   ]
  },
  {
   "cell_type": "code",
   "execution_count": 34,
   "metadata": {
    "ExecuteTime": {
     "end_time": "2017-10-13T11:12:35.739584Z",
     "start_time": "2017-10-13T11:12:35.729045Z"
    },
    "scrolled": true
   },
   "outputs": [
    {
     "data": {
      "text/plain": [
       "['HTML_FORMATTERS',\n",
       " 'XML_FORMATTERS',\n",
       " '__bool__',\n",
       " '__call__',\n",
       " '__class__',\n",
       " '__contains__',\n",
       " '__copy__',\n",
       " '__delattr__',\n",
       " '__delitem__',\n",
       " '__dict__',\n",
       " '__dir__',\n",
       " '__doc__',\n",
       " '__eq__',\n",
       " '__format__',\n",
       " '__ge__',\n",
       " '__getattr__',\n",
       " '__getattribute__',\n",
       " '__getitem__',\n",
       " '__gt__',\n",
       " '__hash__',\n",
       " '__init__',\n",
       " '__init_subclass__',\n",
       " '__iter__',\n",
       " '__le__',\n",
       " '__len__',\n",
       " '__lt__',\n",
       " '__module__',\n",
       " '__ne__',\n",
       " '__new__',\n",
       " '__reduce__',\n",
       " '__reduce_ex__',\n",
       " '__repr__',\n",
       " '__setattr__',\n",
       " '__setitem__',\n",
       " '__sizeof__',\n",
       " '__str__',\n",
       " '__subclasshook__',\n",
       " '__unicode__',\n",
       " '__weakref__',\n",
       " '_all_strings',\n",
       " '_attr_value_as_string',\n",
       " '_attribute_checker',\n",
       " '_find_all',\n",
       " '_find_one',\n",
       " '_formatter_for_name',\n",
       " '_is_xml',\n",
       " '_lastRecursiveChild',\n",
       " '_last_descendant',\n",
       " '_select_debug',\n",
       " '_selector_combinators',\n",
       " '_should_pretty_print',\n",
       " '_tag_name_matches_and',\n",
       " 'append',\n",
       " 'attribselect_re',\n",
       " 'attrs',\n",
       " 'can_be_empty_element',\n",
       " 'childGenerator',\n",
       " 'children',\n",
       " 'clear',\n",
       " 'contents',\n",
       " 'decode',\n",
       " 'decode_contents',\n",
       " 'decompose',\n",
       " 'descendants',\n",
       " 'encode',\n",
       " 'encode_contents',\n",
       " 'extract',\n",
       " 'fetchNextSiblings',\n",
       " 'fetchParents',\n",
       " 'fetchPrevious',\n",
       " 'fetchPreviousSiblings',\n",
       " 'find',\n",
       " 'findAll',\n",
       " 'findAllNext',\n",
       " 'findAllPrevious',\n",
       " 'findChild',\n",
       " 'findChildren',\n",
       " 'findNext',\n",
       " 'findNextSibling',\n",
       " 'findNextSiblings',\n",
       " 'findParent',\n",
       " 'findParents',\n",
       " 'findPrevious',\n",
       " 'findPreviousSibling',\n",
       " 'findPreviousSiblings',\n",
       " 'find_all',\n",
       " 'find_all_next',\n",
       " 'find_all_previous',\n",
       " 'find_next',\n",
       " 'find_next_sibling',\n",
       " 'find_next_siblings',\n",
       " 'find_parent',\n",
       " 'find_parents',\n",
       " 'find_previous',\n",
       " 'find_previous_sibling',\n",
       " 'find_previous_siblings',\n",
       " 'format_string',\n",
       " 'get',\n",
       " 'getText',\n",
       " 'get_attribute_list',\n",
       " 'get_text',\n",
       " 'has_attr',\n",
       " 'has_key',\n",
       " 'hidden',\n",
       " 'index',\n",
       " 'insert',\n",
       " 'insert_after',\n",
       " 'insert_before',\n",
       " 'isSelfClosing',\n",
       " 'is_empty_element',\n",
       " 'known_xml',\n",
       " 'name',\n",
       " 'namespace',\n",
       " 'next',\n",
       " 'nextGenerator',\n",
       " 'nextSibling',\n",
       " 'nextSiblingGenerator',\n",
       " 'next_element',\n",
       " 'next_elements',\n",
       " 'next_sibling',\n",
       " 'next_siblings',\n",
       " 'parent',\n",
       " 'parentGenerator',\n",
       " 'parents',\n",
       " 'parserClass',\n",
       " 'parser_class',\n",
       " 'prefix',\n",
       " 'preserve_whitespace_tags',\n",
       " 'prettify',\n",
       " 'previous',\n",
       " 'previousGenerator',\n",
       " 'previousSibling',\n",
       " 'previousSiblingGenerator',\n",
       " 'previous_element',\n",
       " 'previous_elements',\n",
       " 'previous_sibling',\n",
       " 'previous_siblings',\n",
       " 'quoted_colon',\n",
       " 'recursiveChildGenerator',\n",
       " 'renderContents',\n",
       " 'replaceWith',\n",
       " 'replaceWithChildren',\n",
       " 'replace_with',\n",
       " 'replace_with_children',\n",
       " 'select',\n",
       " 'select_one',\n",
       " 'setup',\n",
       " 'string',\n",
       " 'strings',\n",
       " 'stripped_strings',\n",
       " 'tag_name_re',\n",
       " 'text',\n",
       " 'unwrap',\n",
       " 'wrap']"
      ]
     },
     "execution_count": 34,
     "metadata": {},
     "output_type": "execute_result"
    }
   ],
   "source": [
    "dir(btag)"
   ]
  },
  {
   "cell_type": "code",
   "execution_count": 35,
   "metadata": {
    "ExecuteTime": {
     "end_time": "2017-10-13T11:12:36.068796Z",
     "start_time": "2017-10-13T11:12:36.064550Z"
    }
   },
   "outputs": [
    {
     "data": {
      "text/plain": [
       "'b'"
      ]
     },
     "execution_count": 35,
     "metadata": {},
     "output_type": "execute_result"
    }
   ],
   "source": [
    "btag.name"
   ]
  },
  {
   "cell_type": "code",
   "execution_count": 36,
   "metadata": {
    "ExecuteTime": {
     "end_time": "2017-10-13T11:12:37.160212Z",
     "start_time": "2017-10-13T11:12:37.154215Z"
    }
   },
   "outputs": [
    {
     "data": {
      "text/plain": [
       "<span class=\"class_name\" id=\"id_attr\">Полужирный текст</span>"
      ]
     },
     "execution_count": 36,
     "metadata": {},
     "output_type": "execute_result"
    }
   ],
   "source": [
    "btag.name = \"span\"\n",
    "btag"
   ]
  },
  {
   "cell_type": "code",
   "execution_count": 37,
   "metadata": {
    "ExecuteTime": {
     "end_time": "2017-10-13T11:12:38.504045Z",
     "start_time": "2017-10-13T11:12:38.499354Z"
    }
   },
   "outputs": [
    {
     "data": {
      "text/plain": [
       "['class_name']"
      ]
     },
     "execution_count": 37,
     "metadata": {},
     "output_type": "execute_result"
    }
   ],
   "source": [
    "btag[\"class\"]"
   ]
  },
  {
   "cell_type": "code",
   "execution_count": 38,
   "metadata": {
    "ExecuteTime": {
     "end_time": "2017-10-13T11:12:39.665306Z",
     "start_time": "2017-10-13T11:12:39.660875Z"
    }
   },
   "outputs": [
    {
     "data": {
      "text/plain": [
       "{'class': ['class_name'], 'id': 'id_attr'}"
      ]
     },
     "execution_count": 38,
     "metadata": {},
     "output_type": "execute_result"
    }
   ],
   "source": [
    "btag.attrs"
   ]
  },
  {
   "cell_type": "code",
   "execution_count": 39,
   "metadata": {
    "ExecuteTime": {
     "end_time": "2017-10-13T11:12:50.969980Z",
     "start_time": "2017-10-13T11:12:50.964801Z"
    }
   },
   "outputs": [
    {
     "data": {
      "text/plain": [
       "<span class=\"class_name\" id=\"some_id\">Полужирный текст</span>"
      ]
     },
     "execution_count": 39,
     "metadata": {},
     "output_type": "execute_result"
    }
   ],
   "source": [
    "btag[\"id\"] = \"some_id\"\n",
    "btag"
   ]
  },
  {
   "cell_type": "code",
   "execution_count": 40,
   "metadata": {
    "ExecuteTime": {
     "end_time": "2017-10-13T11:13:04.913853Z",
     "start_time": "2017-10-13T11:13:04.909104Z"
    }
   },
   "outputs": [
    {
     "data": {
      "text/plain": [
       "'Полужирный текст'"
      ]
     },
     "execution_count": 40,
     "metadata": {},
     "output_type": "execute_result"
    }
   ],
   "source": [
    "btag.string"
   ]
  },
  {
   "cell_type": "code",
   "execution_count": 41,
   "metadata": {
    "ExecuteTime": {
     "end_time": "2017-10-13T11:13:30.682475Z",
     "start_time": "2017-10-13T11:13:30.676948Z"
    }
   },
   "outputs": [
    {
     "data": {
      "text/plain": [
       "<span class=\"class_name\" id=\"some_id\">Новый текст</span>"
      ]
     },
     "execution_count": 41,
     "metadata": {},
     "output_type": "execute_result"
    }
   ],
   "source": [
    "btag.string.replace_with(\"Новый текст\")\n",
    "btag"
   ]
  },
  {
   "cell_type": "code",
   "execution_count": 42,
   "metadata": {
    "ExecuteTime": {
     "end_time": "2017-10-13T11:13:41.385616Z",
     "start_time": "2017-10-13T11:13:41.380905Z"
    }
   },
   "outputs": [
    {
     "data": {
      "text/plain": [
       "'какой-то текст Новый текст И ещё немножко'"
      ]
     },
     "execution_count": 42,
     "metadata": {},
     "output_type": "execute_result"
    }
   ],
   "source": [
    "soup.get_text()"
   ]
  },
  {
   "cell_type": "code",
   "execution_count": 5,
   "metadata": {
    "ExecuteTime": {
     "end_time": "2017-10-13T11:26:39.383148Z",
     "start_time": "2017-10-13T11:26:39.377661Z"
    }
   },
   "outputs": [
    {
     "name": "stdout",
     "output_type": "stream",
     "text": [
      "<html>\n",
      " <body>\n",
      "  <a>\n",
      "   <b class=\"cl\">\n",
      "    text1\n",
      "   </b>\n",
      "   <b class=\"cl\">\n",
      "    text2\n",
      "   </b>\n",
      "  </a>\n",
      " </body>\n",
      "</html>\n"
     ]
    }
   ],
   "source": [
    "sibling_soup = BeautifulSoup(\"<a><b class='cl'>text1</b><b class='cl'>text2</b></b></a>\", \"lxml\")\n",
    "print(sibling_soup.prettify())"
   ]
  },
  {
   "cell_type": "code",
   "execution_count": 7,
   "metadata": {
    "ExecuteTime": {
     "end_time": "2017-10-13T11:26:57.232759Z",
     "start_time": "2017-10-13T11:26:57.217758Z"
    }
   },
   "outputs": [
    {
     "data": {
      "text/plain": [
       "<b class=\"cl\">text1</b>"
      ]
     },
     "execution_count": 7,
     "metadata": {},
     "output_type": "execute_result"
    }
   ],
   "source": [
    "sibling_soup.find(\"b\", attrs={\"class\": \"cl\"})\n",
    "sibling_soup.find(\"b\", class_=\"cl\")"
   ]
  },
  {
   "cell_type": "code",
   "execution_count": 9,
   "metadata": {
    "ExecuteTime": {
     "end_time": "2017-10-13T11:27:28.938391Z",
     "start_time": "2017-10-13T11:27:28.932603Z"
    }
   },
   "outputs": [
    {
     "data": {
      "text/plain": [
       "[<b class=\"cl\">text1</b>, <b class=\"cl\">text2</b>]"
      ]
     },
     "execution_count": 9,
     "metadata": {},
     "output_type": "execute_result"
    }
   ],
   "source": [
    "all_b = sibling_soup.find_all(\"b\", class_=\"cl\")\n",
    "all_b"
   ]
  },
  {
   "cell_type": "code",
   "execution_count": 10,
   "metadata": {
    "ExecuteTime": {
     "end_time": "2017-10-13T11:27:46.321170Z",
     "start_time": "2017-10-13T11:27:46.316406Z"
    }
   },
   "outputs": [
    {
     "name": "stdout",
     "output_type": "stream",
     "text": [
      "text1\n",
      "text2\n"
     ]
    }
   ],
   "source": [
    "for b in all_b:\n",
    "    print(b.get_text())"
   ]
  },
  {
   "cell_type": "markdown",
   "metadata": {},
   "source": [
    "## Загрузка рецептов с eda.ru"
   ]
  },
  {
   "cell_type": "code",
   "execution_count": 1,
   "metadata": {
    "ExecuteTime": {
     "end_time": "2018-08-03T04:42:39.657740Z",
     "start_time": "2018-08-03T04:42:38.617482Z"
    }
   },
   "outputs": [],
   "source": [
    "import requests\n",
    "from pyquery import PyQuery as pq\n",
    "import json\n",
    "from json import JSONDecodeError\n",
    "from tqdm import tqdm_notebook\n",
    "import pandas as pd"
   ]
  },
  {
   "cell_type": "code",
   "execution_count": 6,
   "metadata": {
    "ExecuteTime": {
     "end_time": "2018-08-03T04:45:34.240069Z",
     "start_time": "2018-08-03T04:45:34.236367Z"
    }
   },
   "outputs": [],
   "source": [
    "url = \"https://eda.ru/recepty?page={}\"\n",
    "res = requests.get(url.format(1))"
   ]
  },
  {
   "cell_type": "code",
   "execution_count": 47,
   "metadata": {
    "ExecuteTime": {
     "end_time": "2018-08-02T11:58:24.337697Z",
     "start_time": "2018-08-02T11:58:24.208655Z"
    }
   },
   "outputs": [],
   "source": [
    "recipes_subcat_list = []\n",
    "for recipes_cat in pq(res.text).find(\".seo-footer .seo-footer__list\"):\n",
    "    recipes_subcats = pq(recipes_cat).find(\"li.seo-footer__list-item, li.seo-footer__list-title _empty\")\n",
    "    for recipes_subcat in recipes_subcats:\n",
    "        d = {\n",
    "            \"title\": pq(recipes_subcat).text().split(\"\\xa0\\xa0\")[0],\n",
    "            \"href\": pq(recipes_subcat).find(\"a\").attr(\"href\"),\n",
    "            \"num\": int(pq(recipes_subcat).text().split(\"\\xa0\\xa0\")[1])\n",
    "        }\n",
    "        recipes_subcat_list.append(d)"
   ]
  },
  {
   "cell_type": "code",
   "execution_count": null,
   "metadata": {
    "ExecuteTime": {
     "end_time": "2018-08-02T14:19:59.383948Z",
     "start_time": "2018-08-02T13:44:25.563295Z"
    }
   },
   "outputs": [],
   "source": [
    "data = {}\n",
    "\n",
    "for rec_cat in recipes_subcat_list:\n",
    "    print(rec_cat[\"title\"])\n",
    "    has_items = True\n",
    "    page = 1\n",
    "    \n",
    "    while has_items:\n",
    "        res = requests.get(\"https://eda.ru/{cat}?page={page}\".format(cat=rec_cat[\"href\"], page=page)).text\n",
    "        \n",
    "        if len(pq(res).find(\".recipes-page__recipes .tile-list__horizontal-tile\")):\n",
    "            page += 1\n",
    "            for recipe in pq(res).find(\".recipes-page__recipes .tile-list__horizontal-tile\"):\n",
    "                title = pq(recipe).find(\".horizontal-tile__item-title\").text()\n",
    "                href = pq(recipe).find(\".horizontal-tile__item-title a\").attr(\"href\")\n",
    "#                 print(\"Page {}, URL {}\".format(page, href), end=\"\\r\")\n",
    "                img_src = pq(recipe).find(\".horizontal-tile__preview .lazy-load-container\").attr(\"data-src\")\n",
    "                booked = int(pq(recipe).find(\".js-bookmark__counter\").text())\n",
    "                likes = int(pq(recipe).find(\".widget-list__like-count\").text().split()[0])\n",
    "                dislikes = int(pq(recipe).find(\".widget-list__like-count\").text().split()[1])\n",
    "                time_to_cook = pq(recipe).find(\".prep-time\").text()\n",
    "                portions = pq(recipe).find(\".js-portions-count-print\").text()\n",
    "                ingredients = []\n",
    "                for ingredient in pq(recipe).find(\".ingredients-list .ingredients-list__content-item\"):\n",
    "                    try:\n",
    "                        attr = pq(ingredient).attr(\"data-ingredient-object\")\n",
    "                        ingredients.append(json.loads(attr.replace('\"\"', '\"')))\n",
    "                    except JSONDecodeError as err:\n",
    "                        print(pq(ingredient).attr(\"data-ingredient-object\"))\n",
    "                        break\n",
    "                \n",
    "                data[href] = {\n",
    "                    \"title\": title,\n",
    "                    \"img_src\": img_src,\n",
    "                    \"ingredients\": ingredients,\n",
    "                    \"booked\": booked,\n",
    "                    \"likes\": likes,\n",
    "                    \"dislikes\": dislikes,\n",
    "                    \"time_to_cook\": time_to_cook,\n",
    "                    \"portions\": portions,\n",
    "                    \"category\": rec_cat[\"title\"]\n",
    "                }\n",
    "        else:\n",
    "            has_items = False"
   ]
  },
  {
   "cell_type": "code",
   "execution_count": 3,
   "metadata": {
    "ExecuteTime": {
     "end_time": "2018-08-02T16:17:31.129990Z",
     "start_time": "2018-08-02T16:17:31.116802Z"
    }
   },
   "outputs": [
    {
     "data": {
      "text/plain": [
       "20759"
      ]
     },
     "execution_count": 3,
     "metadata": {},
     "output_type": "execute_result"
    }
   ],
   "source": [
    "len(data)"
   ]
  },
  {
   "cell_type": "code",
   "execution_count": 99,
   "metadata": {
    "ExecuteTime": {
     "end_time": "2018-08-02T14:30:35.700371Z",
     "start_time": "2018-08-02T14:30:35.549333Z"
    }
   },
   "outputs": [],
   "source": [
    "for num, d in enumerate(data):\n",
    "    data[d][\"id\"] = num"
   ]
  },
  {
   "cell_type": "code",
   "execution_count": null,
   "metadata": {
    "ExecuteTime": {
     "start_time": "2018-08-03T05:00:33.284Z"
    }
   },
   "outputs": [],
   "source": [
    "json.dump(data, open(\"recipes.json\", \"wt\", encoding=\"utf8\"))"
   ]
  },
  {
   "cell_type": "code",
   "execution_count": 2,
   "metadata": {
    "ExecuteTime": {
     "end_time": "2018-08-03T04:42:52.137076Z",
     "start_time": "2018-08-03T04:42:51.186254Z"
    }
   },
   "outputs": [],
   "source": [
    "data = json.load(open(\"recipes.json\", \"rt\", encoding=\"utf8\"))"
   ]
  },
  {
   "cell_type": "code",
   "execution_count": 3,
   "metadata": {
    "ExecuteTime": {
     "end_time": "2018-08-03T04:42:54.130568Z",
     "start_time": "2018-08-03T04:42:53.713927Z"
    }
   },
   "outputs": [],
   "source": [
    "df = pd.DataFrame.from_dict(data, orient=\"index\")"
   ]
  },
  {
   "cell_type": "code",
   "execution_count": 108,
   "metadata": {
    "ExecuteTime": {
     "end_time": "2018-08-02T14:35:21.874022Z",
     "start_time": "2018-08-02T14:35:21.850995Z"
    }
   },
   "outputs": [
    {
     "data": {
      "text/plain": [
       "4656"
      ]
     },
     "execution_count": 108,
     "metadata": {},
     "output_type": "execute_result"
    }
   ],
   "source": [
    "df[\"img_src\"].isnull().sum()"
   ]
  },
  {
   "cell_type": "code",
   "execution_count": 5,
   "metadata": {
    "ExecuteTime": {
     "end_time": "2018-08-03T04:44:24.640922Z",
     "start_time": "2018-08-03T04:44:24.624842Z"
    }
   },
   "outputs": [
    {
     "data": {
      "text/plain": [
       "/recepty/bulony/bulon-iz-kashtanov-25717                         Овощной бульон\n",
       "/recepty/bulony/bulon-kurinij-s-kleckami-iz-maci-16656           Куриный бульон\n",
       "/recepty/bulony/bulon-ovoschnoj-14259                            Овощной бульон\n",
       "/recepty/bulony/holodec-iz-teljatini-kurinih-potroshkov-23603           Холодец\n",
       "/recepty/bulony/klassicheskiy-svetlyy-kurinyy-bulon-93912        Куриный бульон\n",
       "Name: category, dtype: object"
      ]
     },
     "execution_count": 5,
     "metadata": {},
     "output_type": "execute_result"
    }
   ],
   "source": [
    "df[\"category\"].head()"
   ]
  },
  {
   "cell_type": "code",
   "execution_count": null,
   "metadata": {},
   "outputs": [],
   "source": [
    "df.to_msgpack(\"recipes.msg\")"
   ]
  },
  {
   "cell_type": "code",
   "execution_count": 7,
   "metadata": {
    "ExecuteTime": {
     "end_time": "2018-08-02T16:35:40.074324Z",
     "start_time": "2018-08-02T16:18:34.779069Z"
    },
    "scrolled": true
   },
   "outputs": [
    {
     "data": {
      "application/vnd.jupyter.widget-view+json": {
       "model_id": "285dd55e8fb443da8fafb76d53863734",
       "version_major": 2,
       "version_minor": 0
      },
      "text/plain": [
       "HBox(children=(IntProgress(value=0, max=20759), HTML(value='')))"
      ]
     },
     "metadata": {},
     "output_type": "display_data"
    },
    {
     "name": "stdout",
     "output_type": "stream",
     "text": [
      "\n"
     ]
    }
   ],
   "source": [
    "for url, d in tqdm_notebook(data.items()):\n",
    "    if d[\"img_src\"]:\n",
    "        if d[\"id\"] in range(14419, 40000): # для возобновления закачки с какого-либо момента\n",
    "            url = \"https:\" + d[\"img_src\"]\n",
    "            res = requests.get(url)\n",
    "            path = \"imgs/\" + str(d[\"id\"]) + \".\" + d[\"img_src\"].split(\".\")[-1]\n",
    "            open(path, 'wb').write(res.content)"
   ]
  },
  {
   "cell_type": "code",
   "execution_count": 33,
   "metadata": {
    "ExecuteTime": {
     "end_time": "2018-08-03T04:59:06.112588Z",
     "start_time": "2018-08-03T04:59:06.039855Z"
    }
   },
   "outputs": [],
   "source": [
    "cat = {}\n",
    "for recipes_list in pq(res.text).find(\".seo-footer .seo-footer__list\"):\n",
    "    rec_lis = pq(recipes_list).find(\"li\")\n",
    "    cat_name = pq(rec_lis[0]).text().split(\"\\xa0\\xa0\")[0]\n",
    "\n",
    "    for rec_li in pq(rec_lis[1:]):\n",
    "        subcat_name = pq(rec_li).text().split(\"\\xa0\\xa0\")[0]\n",
    "        cat[subcat_name] = cat_name"
   ]
  },
  {
   "cell_type": "code",
   "execution_count": 36,
   "metadata": {
    "ExecuteTime": {
     "end_time": "2018-08-03T05:00:11.962371Z",
     "start_time": "2018-08-03T05:00:11.931222Z"
    }
   },
   "outputs": [],
   "source": [
    "for num, d in enumerate(data):\n",
    "    data[d][\"sup_category\"] = cat[data[d][\"category\"]]"
   ]
  },
  {
   "cell_type": "markdown",
   "metadata": {},
   "source": [
    "## [Загрузка информации о банкоматах c banki.ru](https://nagornyy.me/courses/data-science/geoanalysis-rosbank/)"
   ]
  },
  {
   "cell_type": "markdown",
   "metadata": {},
   "source": [
    "## Загрузка данных с vk.com\n",
    "\n",
    "1. Создать standalone [приложение](https://vk.com/apps).\n",
    "2. Скопировать Service token.\n",
    "3. [Выбрать метод API](https://vk.com/dev/methods), который будет вызываться.\n",
    "4. Сформировать запрос как написано в [документации](https://vk.com/dev/api_requests).\n",
    "5. Сделать запрос."
   ]
  },
  {
   "cell_type": "code",
   "execution_count": 3,
   "metadata": {},
   "outputs": [
    {
     "data": {
      "text/plain": [
       "{'response': [{'id': 1,\n",
       "   'first_name': 'Pavel',\n",
       "   'last_name': 'Durov',\n",
       "   'is_closed': False,\n",
       "   'can_access_closed': True},\n",
       "  {'id': 23,\n",
       "   'first_name': 'Andrey',\n",
       "   'last_name': 'Stolbovsky',\n",
       "   'is_closed': False,\n",
       "   'can_access_closed': True},\n",
       "  {'id': 4,\n",
       "   'first_name': 'DELETED',\n",
       "   'last_name': '',\n",
       "   'deactivated': 'deleted'},\n",
       "  {'id': 3,\n",
       "   'first_name': 'DELETED',\n",
       "   'last_name': '',\n",
       "   'deactivated': 'deleted'}]}"
      ]
     },
     "execution_count": 3,
     "metadata": {},
     "output_type": "execute_result"
    }
   ],
   "source": [
    "import requests\n",
    "\n",
    "access_token = '0b9765dd0b9765dd0b9765dd640bfff4a600b970b9765dd57ca9d0a3a19de66999e2ac0'\n",
    "api_version = '5.89'\n",
    "res = requests.get(f'https://api.vk.com/method/users.get?user_ids=1,23,4,3&access_token={access_token}&v={api_version}')\n",
    "res.json()"
   ]
  },
  {
   "cell_type": "code",
   "execution_count": 5,
   "metadata": {},
   "outputs": [
    {
     "data": {
      "text/plain": [
       "{'response': {'count': 196,\n",
       "  'items': [{'id': 605,\n",
       "    'from_id': -135403715,\n",
       "    'owner_id': -135403715,\n",
       "    'date': 1541948582,\n",
       "    'marked_as_ads': 0,\n",
       "    'post_type': 'post',\n",
       "    'text': 'От создателей\\nБуси и Жужи\\nСоциальных Асоциологов \\nСедовского репа\\nи скамейки СЕ-ДОВА \\n\\nПредставляем вам SKIBIDI ПО-СЕДОВСКИ\\n\\nhttps://youtu.be/YEK2sKI8YwU\\n\\nС любовью,\\nДля Седова ❤️',\n",
       "    'is_pinned': 1,\n",
       "    'attachments': [{'type': 'link',\n",
       "      'link': {'url': 'https://youtu.be/YEK2sKI8YwU',\n",
       "       'title': 'SKIBIDI по-седовски!!',\n",
       "       'caption': 'youtu.be',\n",
       "       'description': '',\n",
       "       'photo': {'id': 456245719,\n",
       "        'album_id': -2,\n",
       "        'owner_id': 100,\n",
       "        'sizes': [{'type': 'k',\n",
       "          'url': 'https://pp.userapi.com/c845420/v845420877/129e63/0vnhqlFlxC8.jpg',\n",
       "          'width': 1074,\n",
       "          'height': 480},\n",
       "         {'type': 'l',\n",
       "          'url': 'https://pp.userapi.com/c845420/v845420877/129e62/Opmg1v6_rBE.jpg',\n",
       "          'width': 537,\n",
       "          'height': 240},\n",
       "         {'type': 'm',\n",
       "          'url': 'https://pp.userapi.com/c845420/v845420877/129e5f/PdcadzCcVpc.jpg',\n",
       "          'width': 130,\n",
       "          'height': 73},\n",
       "         {'type': 'p',\n",
       "          'url': 'https://pp.userapi.com/c845420/v845420877/129e61/Lqsg34A6fOk.jpg',\n",
       "          'width': 260,\n",
       "          'height': 146},\n",
       "         {'type': 's',\n",
       "          'url': 'https://pp.userapi.com/c845420/v845420877/129e5e/MA14Y-Xq9vk.jpg',\n",
       "          'width': 75,\n",
       "          'height': 42},\n",
       "         {'type': 'x',\n",
       "          'url': 'https://pp.userapi.com/c845420/v845420877/129e60/Mfbiq8T2PBU.jpg',\n",
       "          'width': 150,\n",
       "          'height': 84}],\n",
       "        'text': '',\n",
       "        'date': 1541948587}}}],\n",
       "    'post_source': {'type': 'api', 'platform': 'iphone'},\n",
       "    'comments': {'count': 4, 'can_post': 1, 'groups_can_post': True},\n",
       "    'likes': {'count': 115, 'user_likes': 0, 'can_like': 1, 'can_publish': 1},\n",
       "    'reposts': {'count': 5, 'user_reposted': 0},\n",
       "    'views': {'count': 2983}}]}}"
      ]
     },
     "execution_count": 5,
     "metadata": {},
     "output_type": "execute_result"
    }
   ],
   "source": [
    "res = requests.get(f'https://api.vk.com/method/wall.get?domain=memesocfuck&count=1&access_token={access_token}&v={api_version}')\n",
    "res.json()"
   ]
  },
  {
   "cell_type": "markdown",
   "metadata": {
    "ExecuteTime": {
     "end_time": "2017-10-13T11:43:10.464013Z",
     "start_time": "2017-10-13T11:43:10.450110Z"
    }
   },
   "source": [
    "# Сложности\n",
    "\n",
    "Не всегда получить текст страницы бывает так просто, поскольку в современные веб-приложения загружают контент динамически, а URL при этом не изменяется (хотя должен бы). Для примера посмотрите на сайты https://www.1tv.ru/news и https://gorod55.ru/news. В таком случае при помощи Инструментов разработчика придётся отслеживать, какие запросы делает страница, и искать среди них те, которые возвращают нужную информацю."
   ]
  },
  {
   "cell_type": "markdown",
   "metadata": {},
   "source": [
    "## Самостоятельная работа\n",
    "\n",
    "Скачайте 100 последних статей с раздела \"[Истории](https://meduza.io/articles)\" сайта [meduza.io](https://meduza.io). Текст и название каждой статьи сохраните в отдельном текстовом файле. В отдельном JSON-файле сохраните мета-информацию о статьях — время публикации и url — так, чтобы можно было восстановиться связь между текстом и мета-информацией."
   ]
  }
 ],
 "metadata": {
  "celltoolbar": "Slideshow",
  "kernelspec": {
   "display_name": "Python 3",
   "language": "python",
   "name": "python3"
  },
  "language_info": {
   "codemirror_mode": {
    "name": "ipython",
    "version": 3
   },
   "file_extension": ".py",
   "mimetype": "text/x-python",
   "name": "python",
   "nbconvert_exporter": "python",
   "pygments_lexer": "ipython3",
   "version": "3.8.4"
  },
  "toc": {
   "nav_menu": {},
   "number_sections": true,
   "sideBar": true,
   "skip_h1_title": false,
   "toc_cell": false,
   "toc_position": {},
   "toc_section_display": "block",
   "toc_window_display": false
  },
  "varInspector": {
   "cols": {
    "lenName": 16,
    "lenType": 16,
    "lenVar": 40
   },
   "kernels_config": {
    "python": {
     "delete_cmd_postfix": "",
     "delete_cmd_prefix": "del ",
     "library": "var_list.py",
     "varRefreshCmd": "print(var_dic_list())"
    },
    "r": {
     "delete_cmd_postfix": ") ",
     "delete_cmd_prefix": "rm(",
     "library": "var_list.r",
     "varRefreshCmd": "cat(var_dic_list()) "
    }
   },
   "types_to_exclude": [
    "module",
    "function",
    "builtin_function_or_method",
    "instance",
    "_Feature"
   ],
   "window_display": false
  }
 },
 "nbformat": 4,
 "nbformat_minor": 2
}
